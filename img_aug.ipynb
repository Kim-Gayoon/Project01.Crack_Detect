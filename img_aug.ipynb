{
  "nbformat": 4,
  "nbformat_minor": 0,
  "metadata": {
    "colab": {
      "provenance": [],
      "mount_file_id": "1L33qBxt53vitzb7Es70dyykzX9N0Nep3",
      "authorship_tag": "ABX9TyMmu8vhOeRIYKS3Aoc+xTTA"
    },
    "kernelspec": {
      "name": "python3",
      "display_name": "Python 3"
    },
    "language_info": {
      "name": "python"
    }
  },
  "cells": [
    {
      "cell_type": "code",
      "execution_count": null,
      "metadata": {
        "colab": {
          "base_uri": "https://localhost:8080/"
        },
        "id": "rxHY7Gy1x8Pf",
        "outputId": "08b83f93-6da4-4b7b-fcad-913e3f085137"
      },
      "outputs": [
        {
          "output_type": "stream",
          "name": "stdout",
          "text": [
            "Looking in indexes: https://pypi.org/simple, https://us-python.pkg.dev/colab-wheels/public/simple/\n",
            "Requirement already satisfied: imgaug in /usr/local/lib/python3.7/dist-packages (0.4.0)\n",
            "Requirement already satisfied: Shapely in /usr/local/lib/python3.7/dist-packages (from imgaug) (1.8.5.post1)\n",
            "Requirement already satisfied: numpy>=1.15 in /usr/local/lib/python3.7/dist-packages (from imgaug) (1.21.6)\n",
            "Requirement already satisfied: matplotlib in /usr/local/lib/python3.7/dist-packages (from imgaug) (3.2.2)\n",
            "Requirement already satisfied: Pillow in /usr/local/lib/python3.7/dist-packages (from imgaug) (7.1.2)\n",
            "Requirement already satisfied: opencv-python in /usr/local/lib/python3.7/dist-packages (from imgaug) (4.6.0.66)\n",
            "Requirement already satisfied: scikit-image>=0.14.2 in /usr/local/lib/python3.7/dist-packages (from imgaug) (0.18.3)\n",
            "Requirement already satisfied: imageio in /usr/local/lib/python3.7/dist-packages (from imgaug) (2.9.0)\n",
            "Requirement already satisfied: scipy in /usr/local/lib/python3.7/dist-packages (from imgaug) (1.7.3)\n",
            "Requirement already satisfied: six in /usr/local/lib/python3.7/dist-packages (from imgaug) (1.15.0)\n",
            "Requirement already satisfied: tifffile>=2019.7.26 in /usr/local/lib/python3.7/dist-packages (from scikit-image>=0.14.2->imgaug) (2021.11.2)\n",
            "Requirement already satisfied: networkx>=2.0 in /usr/local/lib/python3.7/dist-packages (from scikit-image>=0.14.2->imgaug) (2.6.3)\n",
            "Requirement already satisfied: PyWavelets>=1.1.1 in /usr/local/lib/python3.7/dist-packages (from scikit-image>=0.14.2->imgaug) (1.3.0)\n",
            "Requirement already satisfied: kiwisolver>=1.0.1 in /usr/local/lib/python3.7/dist-packages (from matplotlib->imgaug) (1.4.4)\n",
            "Requirement already satisfied: cycler>=0.10 in /usr/local/lib/python3.7/dist-packages (from matplotlib->imgaug) (0.11.0)\n",
            "Requirement already satisfied: pyparsing!=2.0.4,!=2.1.2,!=2.1.6,>=2.0.1 in /usr/local/lib/python3.7/dist-packages (from matplotlib->imgaug) (3.0.9)\n",
            "Requirement already satisfied: python-dateutil>=2.1 in /usr/local/lib/python3.7/dist-packages (from matplotlib->imgaug) (2.8.2)\n",
            "Requirement already satisfied: typing-extensions in /usr/local/lib/python3.7/dist-packages (from kiwisolver>=1.0.1->matplotlib->imgaug) (4.1.1)\n",
            "Looking in indexes: https://pypi.org/simple, https://us-python.pkg.dev/colab-wheels/public/simple/\n",
            "Collecting files\n",
            "  Downloading files-1.1.1.tar.gz (10 kB)\n",
            "Building wheels for collected packages: files\n",
            "  Building wheel for files (setup.py) ... \u001b[?25l\u001b[?25hdone\n",
            "  Created wheel for files: filename=files-1.1.1-py3-none-any.whl size=3671 sha256=7aa3a165f5acc26cf82fd629ebcfc1ee411b805ebc0aaa03e7eb7265a94df3e8\n",
            "  Stored in directory: /root/.cache/pip/wheels/2f/c3/9a/1705fa83402ed949d63209767985876ef4c5c78f8d53415bfb\n",
            "Successfully built files\n",
            "Installing collected packages: files\n",
            "Successfully installed files-1.1.1\n"
          ]
        }
      ],
      "source": [
        "!pip install imgaug\n",
        "!pip install files"
      ]
    },
    {
      "cell_type": "code",
      "source": [
        "\n",
        "f=open('/content/drive/MyDrive/YOLO/crack5000/dataset1/train.txt','r')\n",
        "lines=f.readlines()\n",
        "txt_list=[]\n",
        "for line in lines:\n",
        "  line = line.split('.jpg')[0]\n",
        "  line = line.split('/')[-1]\n",
        "  txt_list.append(line)"
      ],
      "metadata": {
        "id": "zGS8C2Vqy9pg"
      },
      "execution_count": null,
      "outputs": []
    },
    {
      "cell_type": "code",
      "source": [
        "txt_list[0]"
      ],
      "metadata": {
        "colab": {
          "base_uri": "https://localhost:8080/",
          "height": 35
        },
        "id": "764YLLHMzb21",
        "outputId": "3fc760ee-804c-40fc-dd07-7706a8b5a545"
      },
      "execution_count": null,
      "outputs": [
        {
          "output_type": "execute_result",
          "data": {
            "text/plain": [
              "'/content/drive/MyDrive/YOLO/crack5000/dataset1/images/101_059825ae-6d5a-4c37-8e5e-195f7065da65_jpg.rf.de40a86aae9c0d6a7dce3ab24b75d7ed'"
            ],
            "application/vnd.google.colaboratory.intrinsic+json": {
              "type": "string"
            }
          },
          "metadata": {},
          "execution_count": 16
        }
      ]
    },
    {
      "cell_type": "code",
      "source": [
        "txt_list[0]"
      ],
      "metadata": {
        "colab": {
          "base_uri": "https://localhost:8080/",
          "height": 35
        },
        "id": "W5dqF9Du1hQ-",
        "outputId": "23d9f202-38f0-483a-8a7e-38c317f7f32b"
      },
      "execution_count": null,
      "outputs": [
        {
          "output_type": "execute_result",
          "data": {
            "text/plain": [
              "'101_059825ae-6d5a-4c37-8e5e-195f7065da65_jpg.rf.de40a86aae9c0d6a7dce3ab24b75d7ed'"
            ],
            "application/vnd.google.colaboratory.intrinsic+json": {
              "type": "string"
            }
          },
          "metadata": {},
          "execution_count": 18
        }
      ]
    },
    {
      "cell_type": "markdown",
      "source": [
        "Train data set"
      ],
      "metadata": {
        "id": "Bf8SZ1vn5kMa"
      }
    },
    {
      "cell_type": "code",
      "source": [
        "import os\n",
        "import cv2\n",
        "import imgaug as ia\n",
        "from imgaug import augmenters as iaa\n",
        "from files import *\n",
        "from imgaug.augmentables.normalization import normalize_bounding_boxes as norbox\n",
        "from google.colab.patches import cv2_imshow\n",
        "import numpy as np\n",
        "\n",
        "\n",
        "ia.seed(1)\n",
        "deg = [0,90,180,270] # 방향 정하기\n",
        "img_path='/content/drive/MyDrive/YOLO/crack5000/dataset1/images/'\n",
        "label_path='/content/drive/MyDrive/YOLO/crack5000/dataset1/labels/'\n",
        "f=open('/content/drive/MyDrive/YOLO/crack5000/dataset1/train.txt','r')\n",
        "lines=f.readlines()\n",
        "name_list=[]\n",
        "for line in lines:\n",
        "  line = line.split('.jpg')[0]\n",
        "  line = line.split('/')[-1]\n",
        "  name_list.append(line)\n",
        "\n",
        "for angle in deg:\n",
        "  for name in name_list:\n",
        "    img = cv2.imread(img_path+name+'.jpg')\n",
        "    gt=np.loadtxt(label_path+name+'.txt')\n",
        "    bbox_list = []\n",
        "    for i in range(len(gt)):\n",
        "      try:\n",
        "        x1 = float(gt[1])*416\n",
        "        y1 = float(gt[2])*416\n",
        "        w = float(gt[3])*416\n",
        "        h = float(gt[4])*416\n",
        "        label = float(gt[0])\n",
        "        newx = x1 - w/2\n",
        "        newy = y1 - h/2\n",
        "        newx2 = x1 + w/2\n",
        "        newy2 = y1 + h/2\n",
        "        x=ia.BoundingBox(x1 = newx, y1 = newy, x2 = newx2, y2 = newy2, label= 0)\n",
        "        bbox_list.append(x)\n",
        "      except:\n",
        "        x1 = float(gt[i][1])*416\n",
        "        y1 = float(gt[i][2])*416\n",
        "        w = float(gt[i][3])*416\n",
        "        h = float(gt[i][4])*416\n",
        "        label = float(gt[i][0])\n",
        "        newx = x1 - w/2\n",
        "        newy = y1 - h/2\n",
        "        newx2 = x1 + w/2\n",
        "        newy2 = y1 + h/2\n",
        "        x=ia.BoundingBox(x1 = newx, y1 = newy, x2 = newx2, y2 = newy2, label= 0)\n",
        "        bbox_list.append(x)\n",
        "    bbs_list = ia.BoundingBoxesOnImage(bbox_list, shape=img.shape)\n",
        "\n",
        "\n",
        "    seq = iaa.Sequential([\n",
        "        iaa.Affine(\n",
        "                translate_px={\"x\": 0, \"y\": 0},\n",
        "                scale=(1, 1),\n",
        "                rotate=angle\n",
        "            )\n",
        "    ])\n",
        "\n",
        "    image_aug, bbs_aug = seq(image=img, bounding_boxes=bbs_list)\n",
        "    bbs_aug\n",
        "    a = []\n",
        "    for num in range(len(bbs_aug)):\n",
        "      dw = 1./416\n",
        "      dh = 1./416\n",
        "\n",
        "      x = (bbs_aug.bounding_boxes[num].x1  + bbs_aug.bounding_boxes[num].x2 )/2.0 - 1\n",
        "      y = (bbs_aug.bounding_boxes[num].y1  + bbs_aug.bounding_boxes[num].y2 )/2.0 - 1\n",
        "      w = bbs_aug.bounding_boxes[num].x2 - bbs_aug.bounding_boxes[num].x1\n",
        "      h = bbs_aug.bounding_boxes[num].y2 - bbs_aug.bounding_boxes[num].y1\n",
        "      x = x*dw\n",
        "      w = w*dw\n",
        "      y = y*dh\n",
        "      h = h*dh\n",
        "\n",
        "      label = bbs_aug.bounding_boxes[num].label\n",
        "\n",
        "      b = [label, x, y, w, h]\n",
        "      a.append(b)\n",
        "      \n",
        "      \n",
        "\n",
        "    %cd /content/drive/MyDrive/YOLO/crack5000/dataset2/train/images\n",
        "\n",
        "    save_file = f\"{name}_{angle}.jpg\"\n",
        "\n",
        "    cv2.imwrite(save_file, image_aug)\n",
        "    cv2.waitKey()\n",
        "    cv2.destroyAllWindows()\n",
        "    %cd /content/\n",
        "\n",
        "    %cd /content/drive/MyDrive/YOLO/crack5000/dataset2/train/labels\n",
        "    f =open(f'{name}_{angle}.txt', 'w')\n",
        "    for x in range(len(a)):\n",
        "      line = f\"{a[x][0]} {a[x][1]} {a[x][2]} {a[x][3]} {a[x][4]}\\n\"\n",
        "      f.write(line)\n",
        "    f.close()\n",
        "\n",
        "    %cd /content/\n"
      ],
      "metadata": {
        "id": "gsRsBFayyCJ6"
      },
      "execution_count": null,
      "outputs": []
    },
    {
      "cell_type": "markdown",
      "source": [
        "test data set"
      ],
      "metadata": {
        "id": "6GVXGNHQ5pP_"
      }
    },
    {
      "cell_type": "code",
      "source": [
        "%cd /content/drive/MyDrive/YOLO/crack5000/dataset2/test/labels\n"
      ],
      "metadata": {
        "colab": {
          "base_uri": "https://localhost:8080/"
        },
        "id": "xF8s4z886etx",
        "outputId": "1a838e11-a3f7-4073-afe1-4807ad254431"
      },
      "execution_count": null,
      "outputs": [
        {
          "output_type": "stream",
          "name": "stdout",
          "text": [
            "[Errno 2] No such file or directory: '/content/drive/MyDrive/YOLO/crack5000/dataset2/test/labels'\n",
            "/content\n"
          ]
        }
      ]
    },
    {
      "cell_type": "code",
      "source": [
        "import os\n",
        "import cv2\n",
        "import imgaug as ia\n",
        "from imgaug import augmenters as iaa\n",
        "from files import *\n",
        "from imgaug.augmentables.normalization import normalize_bounding_boxes as norbox\n",
        "from google.colab.patches import cv2_imshow\n",
        "import numpy as np\n",
        "\n",
        "\n",
        "ia.seed(1)\n",
        "deg = [0] # 방향 정하기\n",
        "img_path='/content/drive/MyDrive/YOLO/crack5000/dataset1/images/'\n",
        "label_path='/content/drive/MyDrive/YOLO/crack5000/dataset1/labels/'\n",
        "f=open('/content/drive/MyDrive/YOLO/crack5000/dataset1/test.txt','r')\n",
        "lines=f.readlines()\n",
        "name_list=[]\n",
        "for line in lines:\n",
        "  line = line.split('.jpg')[0]\n",
        "  line = line.split('/')[-1]\n",
        "  name_list.append(line)\n",
        "\n",
        "for angle in deg:\n",
        "  for name in name_list:\n",
        "    img = cv2.imread(img_path+name+'.jpg')\n",
        "    gt=np.loadtxt(label_path+name+'.txt')\n",
        "    bbox_list = []\n",
        "    for i in range(len(gt)):\n",
        "      try:\n",
        "        x1 = float(gt[1])*416\n",
        "        y1 = float(gt[2])*416\n",
        "        w = float(gt[3])*416\n",
        "        h = float(gt[4])*416\n",
        "        label = float(gt[0])\n",
        "        newx = x1 - w/2\n",
        "        newy = y1 - h/2\n",
        "        newx2 = x1 + w/2\n",
        "        newy2 = y1 + h/2\n",
        "        x=ia.BoundingBox(x1 = newx, y1 = newy, x2 = newx2, y2 = newy2, label= 0)\n",
        "        bbox_list.append(x)\n",
        "      except:\n",
        "        x1 = float(gt[i][1])*416\n",
        "        y1 = float(gt[i][2])*416\n",
        "        w = float(gt[i][3])*416\n",
        "        h = float(gt[i][4])*416\n",
        "        label = float(gt[i][0])\n",
        "        newx = x1 - w/2\n",
        "        newy = y1 - h/2\n",
        "        newx2 = x1 + w/2\n",
        "        newy2 = y1 + h/2\n",
        "        x=ia.BoundingBox(x1 = newx, y1 = newy, x2 = newx2, y2 = newy2, label= 0)\n",
        "        bbox_list.append(x)\n",
        "    bbs_list = ia.BoundingBoxesOnImage(bbox_list, shape=img.shape)\n",
        "\n",
        "\n",
        "    seq = iaa.Sequential([\n",
        "        iaa.Affine(\n",
        "                translate_px={\"x\": 0, \"y\": 0},\n",
        "                scale=(1, 1),\n",
        "                rotate=angle\n",
        "            )\n",
        "    ])\n",
        "\n",
        "    image_aug, bbs_aug = seq(image=img, bounding_boxes=bbs_list)\n",
        "    bbs_aug\n",
        "    a = []\n",
        "    for num in range(len(bbs_aug)):\n",
        "      dw = 1./416\n",
        "      dh = 1./416\n",
        "\n",
        "      x = (bbs_aug.bounding_boxes[num].x1  + bbs_aug.bounding_boxes[num].x2 )/2.0 - 1\n",
        "      y = (bbs_aug.bounding_boxes[num].y1  + bbs_aug.bounding_boxes[num].y2 )/2.0 - 1\n",
        "      w = bbs_aug.bounding_boxes[num].x2 - bbs_aug.bounding_boxes[num].x1\n",
        "      h = bbs_aug.bounding_boxes[num].y2 - bbs_aug.bounding_boxes[num].y1\n",
        "      x = x*dw\n",
        "      w = w*dw\n",
        "      y = y*dh\n",
        "      h = h*dh\n",
        "\n",
        "      label = bbs_aug.bounding_boxes[num].label\n",
        "\n",
        "      b = [label, x, y, w, h]\n",
        "      a.append(b)\n",
        "      \n",
        "      \n",
        "\n",
        "    %cd /content/drive/MyDrive/YOLO/crack5000/dataset2/test/images\n",
        "\n",
        "    save_file = f\"{name}_{angle}.jpg\"\n",
        "\n",
        "    cv2.imwrite(save_file, image_aug)\n",
        "    cv2.waitKey()\n",
        "    cv2.destroyAllWindows()\n",
        "    %cd /content/\n",
        "\n",
        "    %cd /content/drive/MyDrive/YOLO/crack5000/dataset2/test/labels\n",
        "    f =open(f'{name}_{angle}.txt', 'w')\n",
        "    for x in range(len(a)):\n",
        "      line = f\"{a[x][0]} {a[x][1]} {a[x][2]} {a[x][3]} {a[x][4]}\\n\"\n",
        "      f.write(line)\n",
        "    f.close()\n",
        "\n",
        "    %cd /content/\n"
      ],
      "metadata": {
        "id": "snrZNz6p5s1W"
      },
      "execution_count": null,
      "outputs": []
    },
    {
      "cell_type": "markdown",
      "source": [
        "val data set"
      ],
      "metadata": {
        "id": "Y11cqFFv7CDB"
      }
    },
    {
      "cell_type": "code",
      "source": [
        "import os\n",
        "import cv2\n",
        "import imgaug as ia\n",
        "from imgaug import augmenters as iaa\n",
        "from files import *\n",
        "from imgaug.augmentables.normalization import normalize_bounding_boxes as norbox\n",
        "from google.colab.patches import cv2_imshow\n",
        "import numpy as np\n",
        "\n",
        "\n",
        "ia.seed(1)\n",
        "deg = [0] # 방향 정하기\n",
        "img_path='/content/drive/MyDrive/YOLO/crack5000/dataset1/images/'\n",
        "label_path='/content/drive/MyDrive/YOLO/crack5000/dataset1/labels/'\n",
        "f=open('/content/drive/MyDrive/YOLO/crack5000/dataset1/val.txt','r')\n",
        "lines=f.readlines()\n",
        "name_list=[]\n",
        "for line in lines:\n",
        "  line = line.split('.jpg')[0]\n",
        "  line = line.split('/')[-1]\n",
        "  name_list.append(line)\n",
        "\n",
        "for angle in deg:\n",
        "  for name in name_list:\n",
        "    img = cv2.imread(img_path+name+'.jpg')\n",
        "    gt=np.loadtxt(label_path+name+'.txt')\n",
        "    bbox_list = []\n",
        "    for i in range(len(gt)):\n",
        "      try:\n",
        "        x1 = float(gt[1])*416\n",
        "        y1 = float(gt[2])*416\n",
        "        w = float(gt[3])*416\n",
        "        h = float(gt[4])*416\n",
        "        label = float(gt[0])\n",
        "        newx = x1 - w/2\n",
        "        newy = y1 - h/2\n",
        "        newx2 = x1 + w/2\n",
        "        newy2 = y1 + h/2\n",
        "        x=ia.BoundingBox(x1 = newx, y1 = newy, x2 = newx2, y2 = newy2, label= 0)\n",
        "        bbox_list.append(x)\n",
        "      except:\n",
        "        x1 = float(gt[i][1])*416\n",
        "        y1 = float(gt[i][2])*416\n",
        "        w = float(gt[i][3])*416\n",
        "        h = float(gt[i][4])*416\n",
        "        label = float(gt[i][0])\n",
        "        newx = x1 - w/2\n",
        "        newy = y1 - h/2\n",
        "        newx2 = x1 + w/2\n",
        "        newy2 = y1 + h/2\n",
        "        x=ia.BoundingBox(x1 = newx, y1 = newy, x2 = newx2, y2 = newy2, label= 0)\n",
        "        bbox_list.append(x)\n",
        "    bbs_list = ia.BoundingBoxesOnImage(bbox_list, shape=img.shape)\n",
        "\n",
        "\n",
        "    seq = iaa.Sequential([\n",
        "        iaa.Affine(\n",
        "                translate_px={\"x\": 0, \"y\": 0},\n",
        "                scale=(1, 1),\n",
        "                rotate=angle\n",
        "            )\n",
        "    ])\n",
        "\n",
        "    image_aug, bbs_aug = seq(image=img, bounding_boxes=bbs_list)\n",
        "    bbs_aug\n",
        "    a = []\n",
        "    for num in range(len(bbs_aug)):\n",
        "      dw = 1./416\n",
        "      dh = 1./416\n",
        "\n",
        "      x = (bbs_aug.bounding_boxes[num].x1  + bbs_aug.bounding_boxes[num].x2 )/2.0 - 1\n",
        "      y = (bbs_aug.bounding_boxes[num].y1  + bbs_aug.bounding_boxes[num].y2 )/2.0 - 1\n",
        "      w = bbs_aug.bounding_boxes[num].x2 - bbs_aug.bounding_boxes[num].x1\n",
        "      h = bbs_aug.bounding_boxes[num].y2 - bbs_aug.bounding_boxes[num].y1\n",
        "      x = x*dw\n",
        "      w = w*dw\n",
        "      y = y*dh\n",
        "      h = h*dh\n",
        "\n",
        "      label = bbs_aug.bounding_boxes[num].label\n",
        "\n",
        "      b = [label, x, y, w, h]\n",
        "      a.append(b)\n",
        "      \n",
        "      \n",
        "\n",
        "    %cd /content/drive/MyDrive/YOLO/crack5000/dataset2/val/images\n",
        "\n",
        "    save_file = f\"{name}_{angle}.jpg\"\n",
        "\n",
        "    cv2.imwrite(save_file, image_aug)\n",
        "    cv2.waitKey()\n",
        "    cv2.destroyAllWindows()\n",
        "    %cd /content/\n",
        "\n",
        "    %cd /content/drive/MyDrive/YOLO/crack5000/dataset2/val/labels\n",
        "    f =open(f'{name}_{angle}.txt', 'w')\n",
        "    for x in range(len(a)):\n",
        "      line = f\"{a[x][0]} {a[x][1]} {a[x][2]} {a[x][3]} {a[x][4]}\\n\"\n",
        "      f.write(line)\n",
        "    f.close()\n",
        "\n",
        "    %cd /content/\n"
      ],
      "metadata": {
        "id": "gLwzzsK-64ev"
      },
      "execution_count": null,
      "outputs": []
    }
  ]
}